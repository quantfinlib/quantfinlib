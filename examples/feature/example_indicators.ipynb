{
 "cells": [
  {
   "cell_type": "code",
   "execution_count": 12,
   "metadata": {},
   "outputs": [],
   "source": [
    "import numpy as np\n",
    "import plotly.graph_objects as go\n",
    "\n",
    "from quantfinlib.sim import BrownianMotion\n",
    "from quantfinlib.feature.indicators import rsi, ewm_rsi, macd, macd_signal, rolling_mom, ewm_mom, rolling_min, rolling_max\n",
    "from quantfinlib.feature.indicators import BollingerBands, EwmBollingerBands, KeltnerBands, DonchianBands"
   ]
  },
  {
   "cell_type": "code",
   "execution_count": 2,
   "metadata": {},
   "outputs": [],
   "source": [
    "params = {'drift':0.5, 'vol':0.30}\n",
    "model = BrownianMotion(**params)\n",
    "p_close = model.path_sample(x0=100, num_steps=252, label_start='2020-01-01', label_freq='B').rename('Close')\n",
    "p_high = (p_close + 0.01 * np.random.lognormal(sigma=0.5, size=253)).rename('high')\n",
    "p_low = (p_close - 0.01 * np.random.lognormal(sigma=0.5, size=253)).rename('low')"
   ]
  },
  {
   "cell_type": "markdown",
   "metadata": {},
   "source": [
    "# Bollinger Bands"
   ]
  },
  {
   "cell_type": "code",
   "execution_count": null,
   "metadata": {},
   "outputs": [],
   "source": [
    "bb = BollingerBands(p_close)\n",
    "fig = go.Figure()\n",
    "fig.add_trace(go.Scatter(x=p_close.index, y=bb.lower(), mode='lines', name='Lower Bollinger Band'))\n",
    "fig.add_trace(go.Scatter(x=p_close.index, y=bb.upper(), fill='tonexty', fillcolor=\"rgba(200,200,0,0.2)\", name='Upper Bollinger Band'))\n",
    "fig.add_trace(go.Scatter(x=p_close.index, y=bb.middle(), mode='lines', name='Middle Bollinger Band'))\n",
    "fig.add_trace(go.Scatter(x=p_close.index, y=p_close, mode='lines', name='Closing Price'))\n",
    "fig.update_layout(title='Bollinger Bands', xaxis_title='Date', yaxis_title='Closing Price', height=600)\n",
    "fig.show()"
   ]
  },
  {
   "cell_type": "code",
   "execution_count": null,
   "metadata": {},
   "outputs": [],
   "source": [
    "fig = go.Figure()\n",
    "fig.add_trace(go.Scatter(x=p_close.index, y=bb.bandwidth(), mode='lines', name='Bandwidth Bollinger', yaxis='y'))\n",
    "fig.add_trace(go.Scatter(x=p_close.index, y=bb.percent_b(), mode='lines', name='%B Bollinger', yaxis='y2'))\n",
    "fig.update_layout(title='Bollinger Bands', xaxis_title='Date', height=600,\n",
    "                  yaxis=dict(title='Bandwidth Bollinger', side='right', showgrid=False),\n",
    "                  yaxis2=dict(title='%B Bollinger', tickformat=',.0%', side='left', overlaying='y', showgrid=False))\n",
    "fig.show()"
   ]
  },
  {
   "cell_type": "markdown",
   "metadata": {},
   "source": [
    "# Exponentially weighted Bollinger Bands"
   ]
  },
  {
   "cell_type": "code",
   "execution_count": null,
   "metadata": {},
   "outputs": [],
   "source": [
    "eb = EwmBollingerBands(p_close)\n",
    "fig = go.Figure()\n",
    "fig.add_trace(go.Scatter(x=p_close.index, y=eb.lower(), mode='lines', name='Lower Bollinger Band'))\n",
    "fig.add_trace(go.Scatter(x=p_close.index, y=eb.upper(), fill='tonexty', fillcolor=\"rgba(200,200,0,0.2)\", name='Upper Bollinger Band'))\n",
    "fig.add_trace(go.Scatter(x=p_close.index, y=eb.middle(), mode='lines', name='Middle Bollinger Band'))\n",
    "fig.add_trace(go.Scatter(x=p_close.index, y=p_close, mode='lines', name='Closing Price'))\n",
    "fig.update_layout(title='Exponential Weighted Moving Average Bollinger Bands', xaxis_title='Date', yaxis_title='Closing Price', height=600)\n",
    "fig.show()"
   ]
  },
  {
   "cell_type": "markdown",
   "metadata": {},
   "source": [
    "# Keltner Channels"
   ]
  },
  {
   "cell_type": "code",
   "execution_count": null,
   "metadata": {},
   "outputs": [],
   "source": [
    "kb = KeltnerBands(p_high, p_low, p_close)\n",
    "fig = go.Figure()\n",
    "fig.add_trace(go.Scatter(x=p_close.index, y=kb.lower(), mode='lines', name='Lower Keltner Band'))\n",
    "fig.add_trace(go.Scatter(x=p_close.index, y=kb.upper(), fill='tonexty', fillcolor=\"rgba(200,200,0,0.2)\", name='Upper Keltner Band'))\n",
    "fig.add_trace(go.Scatter(x=p_close.index, y=kb.middle(), mode='lines', name='Middle Keltner Band'))\n",
    "fig.add_trace(go.Scatter(x=p_close.index, y=p_close, mode='lines', name='Closing Price'))\n",
    "fig.add_trace(go.Scatter(x=p_close.index, y=p_high, mode='lines', name='High Price'))\n",
    "fig.add_trace(go.Scatter(x=p_close.index, y=p_low, mode='lines', name='Low Price'))\n",
    "fig.update_layout(title='Keltner Bands', xaxis_title='Date', yaxis_title='Closing Price', height=600)\n",
    "fig.show()\n"
   ]
  },
  {
   "cell_type": "markdown",
   "metadata": {},
   "source": [
    "# Donchian Channels"
   ]
  },
  {
   "cell_type": "code",
   "execution_count": null,
   "metadata": {},
   "outputs": [],
   "source": [
    "db = DonchianBands(p_close)\n",
    "fig = go.Figure()\n",
    "fig.add_trace(go.Scatter(x=p_close.index, y=db.lower(), mode='lines', name='Lower Donchian Band'))\n",
    "fig.add_trace(go.Scatter(x=p_close.index, y=db.upper(), fill='tonexty', fillcolor=\"rgba(200,200,0,0.2)\", name='Upper Donchian Band'))\n",
    "fig.add_trace(go.Scatter(x=p_close.index, y=db.middle(), mode='lines', name='Middle Donchian Band'))\n",
    "fig.add_trace(go.Scatter(x=p_close.index, y=p_close, mode='lines', name='Closing Price'))\n",
    "fig.update_layout(title='Donchian Bands', xaxis_title='Date', yaxis_title='Closing Price', height=600)\n",
    "fig.show()"
   ]
  },
  {
   "cell_type": "code",
   "execution_count": null,
   "metadata": {},
   "outputs": [],
   "source": [
    "fig = go.Figure()\n",
    "fig.add_trace(go.Scatter(x=p_close.index, y=db.bandwidth(), mode='lines', name='Bandwidth Donchian', yaxis='y'))\n",
    "fig.add_trace(go.Scatter(x=p_close.index, y=db.percent_b(), mode='lines', name='%B Donchian', yaxis='y2'))\n",
    "# %B of Donchian Bands is the same as Stochastic Oscillator\n",
    "so = (p_close - rolling_min(p_close)) / (rolling_max(p_close) - rolling_min(p_close))\n",
    "fig.add_trace(go.Scatter(x=p_close.index, y=so, mode='lines', name='Stochastic Oscillator', yaxis='y2'))\n",
    "fig.update_layout(title='Donchian Bands', xaxis_title='Date', height=600,\n",
    "                  yaxis=dict(title='Bandwidth Donchian', side='right', showgrid=False),\n",
    "                  yaxis2=dict(title='%B Donchian', tickformat=',.0%', side='left', overlaying='y', showgrid=False))\n",
    "fig.show()"
   ]
  },
  {
   "cell_type": "markdown",
   "metadata": {},
   "source": [
    "# Relative Strength Index"
   ]
  },
  {
   "cell_type": "code",
   "execution_count": null,
   "metadata": {},
   "outputs": [],
   "source": [
    "fig = go.Figure()\n",
    "fig.add_trace(go.Scatter(x=p_close.index, y=p_close, mode='lines', name='Closing Price', yaxis='y2'))\n",
    "fig.add_trace(go.Scatter(x=p_close.index, y=rsi(p_close), mode='lines', name='RSI', yaxis='y'))\n",
    "fig.add_trace(go.Scatter(x=p_close.index, y=ewm_rsi(p_close), mode='lines', name='EWMA RSI', yaxis='y'))\n",
    "fig.update_layout(\n",
    "    title='Relative Strength Index', xaxis_title='Date', height=600,\n",
    "    yaxis=dict(title='RSI', side='left', showgrid=False),\n",
    "    yaxis2=dict(title='Closing Price', side='right', overlaying='y', showgrid=False)\n",
    ")\n",
    "fig.add_shape(type='line', x0=p_close.index[0], x1=p_close.index[-1], y0=30, y1=30, line=dict(color='black', width=1, dash='dash'))\n",
    "fig.add_shape(type='line', x0=p_close.index[0], x1=p_close.index[-1], y0=70, y1=70, line=dict(color='black', width=1, dash='dash'))\n",
    "fig.show()"
   ]
  },
  {
   "cell_type": "markdown",
   "metadata": {},
   "source": [
    "# Moving Average Convergence Divergence"
   ]
  },
  {
   "cell_type": "code",
   "execution_count": null,
   "metadata": {},
   "outputs": [],
   "source": [
    "fig = go.Figure()\n",
    "fig.add_trace(go.Scatter(x=p_close.index, y=p_close, mode='lines', name='Closing Price', yaxis='y2'))\n",
    "fig.add_trace(go.Scatter(x=p_close.index, y=macd(p_close), mode='lines', name='MACD', yaxis='y'))\n",
    "fig.add_trace(go.Scatter(x=p_close.index, y=macd_signal(p_close), mode='lines', name='MACD Signal', yaxis='y'))\n",
    "fig.update_layout(\n",
    "    title='Moving Average Convergence Divergence', xaxis_title='Date', height=600,\n",
    "    yaxis=dict(title='MACD', side='left', showgrid=False),\n",
    "    yaxis2=dict(title='Closing Price', side='right', overlaying='y', showgrid=False)\n",
    ")\n",
    "fig.show()"
   ]
  },
  {
   "cell_type": "markdown",
   "metadata": {},
   "source": [
    "# Momentum"
   ]
  },
  {
   "cell_type": "code",
   "execution_count": null,
   "metadata": {},
   "outputs": [],
   "source": [
    "fig = go.Figure()\n",
    "fig.add_trace(go.Scatter(x=p_close.index, y=p_close, mode='lines', name='Closing Price', yaxis='y2'))\n",
    "fig.add_trace(go.Scatter(x=p_close.index, y=rolling_mom(p_close), mode='lines', name='Rolling Momentum', yaxis='y'))\n",
    "fig.add_trace(go.Scatter(x=p_close.index, y=ewm_mom(p_close), mode='lines', name='EWMA Momentum', yaxis='y'))\n",
    "fig.update_layout(\n",
    "    title='Momentum', xaxis_title='Date', height=600,\n",
    "    yaxis=dict(title='Momentum', side='left', showgrid=False),\n",
    "    yaxis2=dict(title='Closing Price', side='right', overlaying='y', showgrid=False)\n",
    ")\n",
    "fig.show()"
   ]
  }
 ],
 "metadata": {
  "kernelspec": {
   "display_name": "quantfinlib-NtbDUbLo-py3.11",
   "language": "python",
   "name": "python3"
  },
  "language_info": {
   "codemirror_mode": {
    "name": "ipython",
    "version": 3
   },
   "file_extension": ".py",
   "mimetype": "text/x-python",
   "name": "python",
   "nbconvert_exporter": "python",
   "pygments_lexer": "ipython3",
   "version": "3.11.2"
  }
 },
 "nbformat": 4,
 "nbformat_minor": 2
}
