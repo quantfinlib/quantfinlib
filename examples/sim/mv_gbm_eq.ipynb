{
 "cells": [
  {
   "cell_type": "code",
   "execution_count": null,
   "metadata": {},
   "outputs": [],
   "source": [
    "from quantfinlib.datasets import load_equity_indices\n",
    "from quantfinlib.sim import GeometricBrownianMotion"
   ]
  }
 ],
 "metadata": {
  "language_info": {
   "name": "python"
  }
 },
 "nbformat": 4,
 "nbformat_minor": 2
}
