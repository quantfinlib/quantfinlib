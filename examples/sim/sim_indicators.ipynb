{
 "cells": [
  {
   "cell_type": "markdown",
   "metadata": {},
   "source": [
    "# Simulate random walks with technical indicators"
   ]
  },
  {
   "cell_type": "code",
   "execution_count": null,
   "metadata": {},
   "outputs": [],
   "source": [
    "import numpy as np\n",
    "import plotly.express as px\n",
    "import plotly.graph_objects as go\n",
    "\n",
    "from functools import partial\n",
    "\n",
    "from quantfinlib.sim import BrownianMotion, QuasiBrownianMotion\n",
    "from quantfinlib.feature.indicators import rsi, ewm_rsi, macd, macd_signal, ewm_mom\n",
    "from quantfinlib.feature.indicators import EwmBollingerBands, DonchianBands, GenericBands"
   ]
  },
  {
   "cell_type": "code",
   "execution_count": null,
   "metadata": {},
   "outputs": [],
   "source": [
    "def rsi_based_signal(prices: np.ndarray, func=rsi) -> np.ndarray:\n",
    "    sig = func(prices)\n",
    "    sig = np.where((sig > 30) & (sig < 70), 50, sig)\n",
    "    return (50 - sig) / 100\n",
    "\n",
    "def bands_based_signal(prices: np.ndarray, bands: GenericBands) -> np.ndarray:\n",
    "    sig = bands(prices).percent_b()\n",
    "    sig = np.where((sig > 0.3) & (sig < 0.7), 0.5, sig)\n",
    "    return 0.5 - sig\n",
    "\n",
    "def calculate_predictive_corr(prices: np.ndarray, indicator: np.ndarray) -> float:\n",
    "    returns = np.diff(prices)\n",
    "    return np.corrcoef(np.nan_to_num(indicator[:-1]), returns)[0, 1]"
   ]
  },
  {
   "cell_type": "markdown",
   "metadata": {},
   "source": [
    "## Settings"
   ]
  },
  {
   "cell_type": "code",
   "execution_count": null,
   "metadata": {},
   "outputs": [],
   "source": [
    "params = {'drift': 0.5, 'vol': 0.30}\n",
    "path_params = {\n",
    "    'x0': 100,\n",
    "    'dt': 1/252,\n",
    "    'num_steps': 2520,\n",
    "    'num_paths': 1,\n",
    "    'label_start': '2020-01-01',\n",
    "    'label_freq': 'B',\n",
    "    'random_state': 42\n",
    "}\n",
    "price_color = px.colors.qualitative.Plotly[0]\n",
    "\n",
    "# True Brownian Motion for comparison\n",
    "model = BrownianMotion(**params)\n",
    "p_bm = model.path_sample(**path_params)"
   ]
  },
  {
   "cell_type": "markdown",
   "metadata": {},
   "source": [
    "# Brownian motion adjusted with Relative Strength Index\n",
    "The Relative Strength Index (RSI) is a momentum oscillator that measures the speed and change of price movements. It is used to identify overbought or oversold conditions in a market. The RSI ranges from 0 to 100. An asset is considered overbought when the RSI is above 70 and oversold when the RSI is below 30.\n",
    "\n",
    "In this example we compare true Brownian motion with Brownian motion adjusted with the RSI. We will add an RSI based signal scaled to have a volatility of 10% of the original Brownian motion volatility."
   ]
  },
  {
   "cell_type": "markdown",
   "metadata": {},
   "source": [
    "## Standard RSI"
   ]
  },
  {
   "cell_type": "code",
   "execution_count": null,
   "metadata": {},
   "outputs": [],
   "source": [
    "qbm_model = QuasiBrownianMotion(rsi_based_signal, **params)\n",
    "p_qbm = qbm_model.path_sample(**path_params)\n",
    "\n",
    "fig = go.Figure()\n",
    "fig.add_trace(go.Scatter(x=p_bm.index, y=p_bm, mode='lines', name='BM Price', yaxis='y2'))\n",
    "fig.add_trace(go.Scatter(x=p_qbm.index, y=p_qbm, mode='lines', name='QBM Price', yaxis='y2',\n",
    "                         line=dict(color=price_color, dash='dot')))\n",
    "fig.add_trace(go.Scatter(x=p_bm.index, y=rsi(p_bm), mode='lines', name='RSI', yaxis='y'))\n",
    "fig.update_layout(\n",
    "    title='Brownian motion adjusted with Relative Strength Index', xaxis_title='Date', height=600,\n",
    "    yaxis=dict(title='RSI', side='left', showgrid=False),\n",
    "    yaxis2=dict(title='Closing Price', side='right', overlaying='y', showgrid=False)\n",
    ")\n",
    "fig.add_shape(type='line', x0=p_bm.index[0], x1=p_bm.index[-1], y0=30, y1=30, line=dict(color='black', width=1, dash='dash'))\n",
    "fig.add_shape(type='line', x0=p_bm.index[0], x1=p_bm.index[-1], y0=70, y1=70, line=dict(color='black', width=1, dash='dash'))\n",
    "fig.show()\n",
    "\n",
    "fig = go.Figure()\n",
    "fig.add_trace(go.Scatter(x=p_qbm.index, y=p_qbm - p_bm, mode='lines', name='Diff Price',\n",
    "                         line=dict(color=\"black\", dash='dot')))\n",
    "fig.update_layout(\n",
    "    xaxis_title='Date',\n",
    "    yaxis_title='Price Difference',\n",
    "    height=200,\n",
    "    margin=dict(r=150, t=10),\n",
    ")\n",
    "fig.show()"
   ]
  },
  {
   "cell_type": "code",
   "execution_count": null,
   "metadata": {},
   "outputs": [],
   "source": [
    "print(\"Brownian motion:      \", calculate_predictive_corr(p_bm, rsi_based_signal(p_bm)))\n",
    "print(\"Brownian motion + RSI:\", calculate_predictive_corr(p_qbm, rsi_based_signal(p_qbm)))"
   ]
  },
  {
   "cell_type": "markdown",
   "metadata": {},
   "source": [
    "## Exponentially weighted RSI"
   ]
  },
  {
   "cell_type": "code",
   "execution_count": null,
   "metadata": {},
   "outputs": [],
   "source": [
    "ewmrsi_based_signal = partial(rsi_based_signal, func=ewm_rsi)\n",
    "eqbm_model = QuasiBrownianMotion(ewmrsi_based_signal, f_signal_vol=0.1, **params)\n",
    "p_eqbm = eqbm_model.path_sample(**path_params)\n",
    "\n",
    "fig = go.Figure()\n",
    "fig.add_trace(go.Scatter(x=p_bm.index, y=p_bm, mode='lines', name='BM Price', yaxis='y2'))\n",
    "fig.add_trace(go.Scatter(x=p_eqbm.index, y=p_eqbm, mode='lines', name='QBM Price', yaxis='y2',\n",
    "                         line=dict(color=price_color, dash='dot')))\n",
    "fig.add_trace(go.Scatter(x=p_bm.index, y=ewm_rsi(p_bm), mode='lines', name='EWMRSI', yaxis='y'))\n",
    "fig.update_layout(\n",
    "    title='Brownian motion adjusted with EWM Relative Strength Index', xaxis_title='Date', height=600,\n",
    "    yaxis=dict(title='RSI', side='left', showgrid=False),\n",
    "    yaxis2=dict(title='Closing Price', side='right', overlaying='y', showgrid=False)\n",
    ")\n",
    "fig.add_shape(type='line', x0=p_bm.index[0], x1=p_bm.index[-1], y0=30, y1=30, line=dict(color='black', width=1, dash='dash'))\n",
    "fig.add_shape(type='line', x0=p_bm.index[0], x1=p_bm.index[-1], y0=70, y1=70, line=dict(color='black', width=1, dash='dash'))\n",
    "fig.show()\n",
    "\n",
    "fig = go.Figure()\n",
    "fig.add_trace(go.Scatter(x=p_eqbm.index, y=p_eqbm - p_bm, mode='lines', name='Diff Price',\n",
    "                         line=dict(color=\"black\", dash='dot')))\n",
    "fig.update_layout(\n",
    "    xaxis_title='Date',\n",
    "    yaxis_title='Price Difference',\n",
    "    height=200,\n",
    "    margin=dict(r=150, t=10),\n",
    ")\n",
    "fig.show()"
   ]
  },
  {
   "cell_type": "code",
   "execution_count": null,
   "metadata": {},
   "outputs": [],
   "source": [
    "print(\"Brownian motion:         \", calculate_predictive_corr(p_bm, ewmrsi_based_signal(p_bm)))\n",
    "print(\"Brownian motion + EWMRSI:\", calculate_predictive_corr(p_eqbm, ewmrsi_based_signal(p_eqbm)))"
   ]
  },
  {
   "cell_type": "markdown",
   "metadata": {},
   "source": [
    "# Brownian motion adjusted with Moving Average Convergence Divergence"
   ]
  },
  {
   "cell_type": "code",
   "execution_count": null,
   "metadata": {},
   "outputs": [],
   "source": [
    "macd_model = QuasiBrownianMotion(macd_signal, f_signal_vol=0.1, **params)\n",
    "p_macd = macd_model.path_sample(**path_params)\n",
    "macd_line = macd(p_bm)\n",
    "signal = macd_signal(p_bm)\n",
    "\n",
    "fig = go.Figure()\n",
    "fig.add_trace(go.Scatter(x=p_bm.index, y=p_bm, mode='lines', name='BM Price', yaxis='y2'))\n",
    "fig.add_trace(go.Scatter(x=p_macd.index, y=p_macd, mode='lines', name='QBM Price', yaxis='y2',\n",
    "                         line=dict(color=price_color, dash='dot')))\n",
    "fig.add_trace(go.Scatter(x=p_bm.index, y=macd_line, mode='lines', name='MACD', yaxis='y'))\n",
    "fig.add_trace(go.Scatter(x=p_bm.index, y=macd_line - signal, mode='lines', name='9D EMA', yaxis='y'))\n",
    "fig.update_layout(\n",
    "    title='Brownian motion adjusted with Moving Average Convergence Divergence signal', xaxis_title='Date', height=600,\n",
    "    yaxis=dict(title='MACD signal', side='left', showgrid=False),\n",
    "    yaxis2=dict(title='Closing Price', side='right', overlaying='y', showgrid=False)\n",
    ")\n",
    "fig.show()\n",
    "\n",
    "colors = np.where(signal < 0, 'red', 'green')\n",
    "fig = go.Figure()\n",
    "fig.add_trace(go.Bar(x=p_bm.index, y=signal, marker_color=colors, name='MACD signal', yaxis='y2'))\n",
    "fig.add_trace(go.Scatter(x=p_macd.index, y=p_macd - p_bm, mode='lines', name='Diff Price',\n",
    "                         line=dict(color=\"black\", dash='dot'), yaxis='y'))\n",
    "fig.update_layout(\n",
    "    xaxis_title='Date',\n",
    "    height=200,\n",
    "    yaxis=dict(title='Price Difference', side='left', showgrid=False),\n",
    "    yaxis2=dict(side='right', overlaying='y', showgrid=False),\n",
    "    margin=dict(r=150, t=10),\n",
    ")\n",
    "fig.show()"
   ]
  },
  {
   "cell_type": "code",
   "execution_count": null,
   "metadata": {},
   "outputs": [],
   "source": [
    "print(\"Brownian motion:       \", calculate_predictive_corr(p_bm, macd_signal(p_bm)))\n",
    "print(\"Brownian + MACD signal:\", calculate_predictive_corr(p_macd, macd_signal(p_macd)))"
   ]
  },
  {
   "cell_type": "markdown",
   "metadata": {},
   "source": [
    "# Brownian motion adjusted with EWMA Momentum (128 days)"
   ]
  },
  {
   "cell_type": "code",
   "execution_count": null,
   "metadata": {},
   "outputs": [],
   "source": [
    "semi_ewm_mom = partial(ewm_mom, span=128, min_periods=32)\n",
    "ewma_model = QuasiBrownianMotion(semi_ewm_mom, f_signal_vol=0.1, **params)\n",
    "p_ewma = ewma_model.path_sample(**path_params)\n",
    "signal = semi_ewm_mom(p_bm)\n",
    "colors = np.where(signal < 0, 'red', 'green')\n",
    "\n",
    "fig = go.Figure()\n",
    "fig.add_trace(go.Bar(x=p_bm.index, y=signal, marker_color=colors, opacity=0.5, name='EWM', yaxis='y'))\n",
    "fig.add_trace(go.Scatter(x=p_bm.index, y=p_bm, mode='lines', name='BM Price', yaxis='y2',\n",
    "                         line=dict(color=price_color)))\n",
    "fig.add_trace(go.Scatter(x=p_ewma.index, y=p_ewma, mode='lines', name='QBM Price', yaxis='y2',\n",
    "                         line=dict(color=price_color, dash='dot')))\n",
    "fig.update_layout(\n",
    "    title='Brownian motion adjusted with EWMA Momentum', xaxis_title='Date', height=600,\n",
    "    yaxis=dict(title='Momentum signal', side='left', showgrid=False),\n",
    "    yaxis2=dict(title='Closing Price', side='right', overlaying='y', showgrid=False)\n",
    ")\n",
    "fig.show()\n",
    "\n",
    "fig = go.Figure()\n",
    "fig.add_trace(go.Scatter(x=p_ewma.index, y=p_ewma - p_bm, mode='lines', name='Diff Price',\n",
    "                         line=dict(color=\"black\", dash='dot'), yaxis='y'))\n",
    "fig.update_layout(\n",
    "    xaxis_title='Date',\n",
    "    height=200,\n",
    "    yaxis=dict(title='Price Difference', side='left', showgrid=False),\n",
    "    yaxis2=dict(side='right', overlaying='y', showgrid=False),\n",
    "    margin=dict(r=150, t=10),\n",
    ")\n",
    "fig.show()"
   ]
  },
  {
   "cell_type": "code",
   "execution_count": null,
   "metadata": {},
   "outputs": [],
   "source": [
    "print(\"Brownian motion:       \", calculate_predictive_corr(p_bm, semi_ewm_mom(p_bm)))\n",
    "print(\"Brownian + MACD signal:\", calculate_predictive_corr(p_ewma, semi_ewm_mom(p_ewma)))"
   ]
  },
  {
   "cell_type": "markdown",
   "metadata": {},
   "source": [
    "# Brownian motion adjusted with Bollinger Bands %B"
   ]
  },
  {
   "cell_type": "code",
   "execution_count": null,
   "metadata": {},
   "outputs": [],
   "source": [
    "eb_based_signal = partial(bands_based_signal, bands=EwmBollingerBands)\n",
    "eb_model = QuasiBrownianMotion(eb_based_signal, f_signal_vol=0.1, **params)\n",
    "p_ebbm = eb_model.path_sample(**path_params)\n",
    "signal = eb_based_signal(p_bm)\n",
    "eb = EwmBollingerBands(p_bm)\n",
    "colors = np.where(signal < 0, 'red', 'green')\n",
    "\n",
    "fig = go.Figure()\n",
    "fig.add_trace(go.Bar(x=p_bm.index, y=signal, marker_color=colors, opacity=0.5, name='Indicator', yaxis='y'))\n",
    "fig.add_trace(go.Scatter(x=p_bm.index, y=p_bm, mode='lines', name='BM Price', yaxis='y2',\n",
    "                         line=dict(color=price_color)))\n",
    "fig.add_trace(go.Scatter(x=p_ebbm.index, y=p_ebbm, mode='lines', name='QBM Price', yaxis='y2',\n",
    "                         line=dict(color=price_color, dash='dot')))\n",
    "fig.add_trace(go.Scatter(x=p_bm.index, y=eb.lower(), mode='lines', name='Lower Bollinger Band', yaxis='y2'))\n",
    "fig.add_trace(go.Scatter(x=p_bm.index, y=eb.upper(), fill='tonexty', fillcolor=\"rgba(200,200,0,0.2)\", name='Upper Bollinger Band', yaxis='y2'))\n",
    "fig.update_layout(\n",
    "    title='Brownian motion adjusted with EWM Bollinger %B (interpreted as overbought/oversold signal)', xaxis_title='Date', height=600,\n",
    "    yaxis=dict(title='Indicator', side='left', showgrid=False),\n",
    "    yaxis2=dict(title='Closing Price', side='right', overlaying='y', showgrid=False)\n",
    ")\n",
    "fig.show()\n",
    "\n",
    "fig = go.Figure()\n",
    "fig.add_trace(go.Scatter(x=p_ebbm.index, y=p_ebbm - p_bm, mode='lines', name='Diff Price',\n",
    "                         line=dict(color=\"black\", dash='dot'), yaxis='y'))\n",
    "fig.update_layout(\n",
    "    xaxis_title='Date',\n",
    "    height=200,\n",
    "    yaxis=dict(title='Price Difference', side='left', showgrid=False),\n",
    "    yaxis2=dict(side='right', overlaying='y', showgrid=False),\n",
    "    margin=dict(r=150, t=10),\n",
    ")\n",
    "fig.show()"
   ]
  },
  {
   "cell_type": "code",
   "execution_count": null,
   "metadata": {},
   "outputs": [],
   "source": [
    "print(\"Brownian motion: \", calculate_predictive_corr(p_bm, eb_based_signal(p_bm)))\n",
    "print(\"Brownian + BB %B:\", calculate_predictive_corr(p_ebbm, eb_based_signal(p_ebbm)))"
   ]
  },
  {
   "cell_type": "markdown",
   "metadata": {},
   "source": [
    "# Brownian motion adjusted with Donchian Bands %B"
   ]
  },
  {
   "cell_type": "code",
   "execution_count": null,
   "metadata": {},
   "outputs": [],
   "source": [
    "db_based_signal = partial(bands_based_signal, bands=DonchianBands)\n",
    "\n",
    "db_model = QuasiBrownianMotion(db_based_signal, f_signal_vol=0.1, **params)\n",
    "p_dbbm = db_model.path_sample(**path_params)\n",
    "signal = db_based_signal(p_bm)\n",
    "db = DonchianBands(p_bm)\n",
    "colors = np.where(signal < 0, 'red', 'green')\n",
    "\n",
    "fig = go.Figure()\n",
    "fig.add_trace(go.Bar(x=p_bm.index, y=signal, marker_color=colors, opacity=0.5, name='Indicator', yaxis='y'))\n",
    "fig.add_trace(go.Scatter(x=p_bm.index, y=p_bm, mode='lines', name='BM Price', yaxis='y2',\n",
    "                         line=dict(color=price_color)))\n",
    "fig.add_trace(go.Scatter(x=p_dbbm.index, y=p_dbbm, mode='lines', name='QBM Price', yaxis='y2',\n",
    "                         line=dict(color=price_color, dash='dot')))\n",
    "fig.add_trace(go.Scatter(x=p_bm.index, y=db.lower(), mode='lines', name='Lower Donchian Band', yaxis='y2'))\n",
    "fig.add_trace(go.Scatter(x=p_bm.index, y=db.upper(), fill='tonexty', fillcolor=\"rgba(200,200,0,0.2)\", name='Upper Donchian Band', yaxis='y2'))\n",
    "fig.update_layout(\n",
    "    title='Brownian motion adjusted with Donchian %B (interpreted as overbought/oversold signal)', xaxis_title='Date', height=600,\n",
    "    yaxis=dict(title='Indicator', side='left', showgrid=False),\n",
    "    yaxis2=dict(title='Closing Price', side='right', overlaying='y', showgrid=False)\n",
    ")\n",
    "fig.show()\n",
    "\n",
    "fig = go.Figure()\n",
    "fig.add_trace(go.Scatter(x=p_dbbm.index, y=p_dbbm - p_bm, mode='lines', name='Diff Price',\n",
    "                         line=dict(color=\"black\", dash='dot'), yaxis='y'))\n",
    "fig.update_layout(\n",
    "    xaxis_title='Date',\n",
    "    height=200,\n",
    "    yaxis=dict(title='Price Difference', side='left', showgrid=False),\n",
    "    yaxis2=dict(side='right', overlaying='y', showgrid=False),\n",
    "    margin=dict(r=150, t=10),\n",
    ")\n",
    "fig.show()"
   ]
  },
  {
   "cell_type": "code",
   "execution_count": null,
   "metadata": {},
   "outputs": [],
   "source": [
    "print(\"Brownian motion: \", calculate_predictive_corr(p_bm, db_based_signal(p_bm)))\n",
    "print(\"Brownian + DB %B:\", calculate_predictive_corr(p_dbbm, db_based_signal(p_dbbm)))"
   ]
  },
  {
   "cell_type": "markdown",
   "metadata": {},
   "source": [
    "# Brownian motion adjusted with the signals combined"
   ]
  },
  {
   "cell_type": "code",
   "execution_count": null,
   "metadata": {},
   "outputs": [],
   "source": [
    "def combined_signal(prices: np.ndarray) -> np.ndarray:\n",
    "    rsi = ewmrsi_based_signal(prices)\n",
    "    macd = macd_signal(prices)\n",
    "    mom = semi_ewm_mom(prices)\n",
    "    eb = eb_based_signal(prices)\n",
    "    db = db_based_signal(prices)\n",
    "    return rsi / np.nanstd(rsi) + macd / np.nanstd(macd) + mom / np.nanstd(mom) + eb / np.nanstd(eb) + db / np.nanstd(db)\n",
    "\n",
    "comb_model = QuasiBrownianMotion(combined_signal, f_signal_vol=0.2, **params)\n",
    "p_comb = comb_model.path_sample(**path_params)\n",
    "signal = combined_signal(p_bm)\n",
    "colors = np.where(signal < 0, 'red', 'green')\n",
    "\n",
    "fig = go.Figure()\n",
    "fig.add_trace(go.Bar(x=p_bm.index, y=signal, marker_color=colors, opacity=0.5, name='Indicator', yaxis='y'))\n",
    "fig.add_trace(go.Scatter(x=p_bm.index, y=p_bm, mode='lines', name='BM Price', yaxis='y2',\n",
    "                         line=dict(color=price_color)))\n",
    "fig.add_trace(go.Scatter(x=p_comb.index, y=p_comb, mode='lines', name='QBM Price', yaxis='y2',\n",
    "                         line=dict(color=price_color, dash='dot')))\n",
    "fig.update_layout(\n",
    "    title='Brownian motion adjusted with combined indicator', xaxis_title='Date', height=600,\n",
    "    yaxis=dict(title='Indicator', side='left', showgrid=False),\n",
    "    yaxis2=dict(title='Closing Price', side='right', overlaying='y', showgrid=False)\n",
    ")\n",
    "fig.show()\n",
    "\n",
    "fig = go.Figure()\n",
    "fig.add_trace(go.Scatter(x=p_comb.index, y=p_comb - p_bm, mode='lines', name='Diff Price',\n",
    "                         line=dict(color=\"black\", dash='dot'), yaxis='y'))\n",
    "fig.update_layout(\n",
    "    xaxis_title='Date',\n",
    "    height=200,\n",
    "    yaxis=dict(title='Price Difference', side='left', showgrid=False),\n",
    "    yaxis2=dict(side='right', overlaying='y', showgrid=False),\n",
    "    margin=dict(r=150, t=10),\n",
    ")\n",
    "fig.show()"
   ]
  },
  {
   "cell_type": "code",
   "execution_count": null,
   "metadata": {},
   "outputs": [],
   "source": [
    "print(\"Brownian motion:    \", calculate_predictive_corr(p_bm, combined_signal(p_bm)))\n",
    "print(\"Brownian + combined:\", calculate_predictive_corr(p_comb, combined_signal(p_comb)))"
   ]
  }
 ],
 "metadata": {
  "kernelspec": {
   "display_name": "quantfinlib-NtbDUbLo-py3.11",
   "language": "python",
   "name": "python3"
  },
  "language_info": {
   "codemirror_mode": {
    "name": "ipython",
    "version": 3
   },
   "file_extension": ".py",
   "mimetype": "text/x-python",
   "name": "python",
   "nbconvert_exporter": "python",
   "pygments_lexer": "ipython3",
   "version": "3.11.2"
  }
 },
 "nbformat": 4,
 "nbformat_minor": 2
}
